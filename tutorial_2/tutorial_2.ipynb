{
 "cells": [
  {
   "metadata": {},
   "cell_type": "markdown",
   "source": "# Tutorial 2",
   "id": "447fa4983c0b3f7"
  },
  {
   "metadata": {},
   "cell_type": "markdown",
   "source": "## Exercise 4",
   "id": "2f266bac81d59774"
  },
  {
   "metadata": {
    "ExecuteTime": {
     "end_time": "2025-03-27T15:37:59.341953Z",
     "start_time": "2025-03-27T15:37:59.326337Z"
    }
   },
   "cell_type": "code",
   "source": "",
   "id": "a58a6a336e716f73",
   "outputs": [
    {
     "ename": "NameError",
     "evalue": "name 'tutorial_2' is not defined",
     "output_type": "error",
     "traceback": [
      "\u001B[0;31m---------------------------------------------------------------------------\u001B[0m",
      "\u001B[0;31mNameError\u001B[0m                                 Traceback (most recent call last)",
      "Cell \u001B[0;32mIn[5], line 4\u001B[0m\n\u001B[1;32m      2\u001B[0m \u001B[38;5;28;01mfrom\u001B[39;00m\u001B[38;5;250m \u001B[39m\u001B[38;5;21;01mtutorial_2\u001B[39;00m\u001B[38;5;21;01m.\u001B[39;00m\u001B[38;5;21;01mGrid\u001B[39;00m\u001B[38;5;250m \u001B[39m\u001B[38;5;28;01mimport\u001B[39;00m Grid\n\u001B[1;32m      3\u001B[0m \u001B[38;5;28;01mfrom\u001B[39;00m\u001B[38;5;250m \u001B[39m\u001B[38;5;21;01mtutorial_2\u001B[39;00m\u001B[38;5;21;01m.\u001B[39;00m\u001B[38;5;21;01mItem\u001B[39;00m\u001B[38;5;250m \u001B[39m\u001B[38;5;28;01mimport\u001B[39;00m \u001B[38;5;241m*\u001B[39m\n\u001B[0;32m----> 4\u001B[0m importlib\u001B[38;5;241m.\u001B[39mreload(\u001B[43mtutorial_2\u001B[49m\u001B[38;5;241m.\u001B[39mItem)\n\u001B[1;32m      5\u001B[0m importlib\u001B[38;5;241m.\u001B[39mreload(tutorial_2\u001B[38;5;241m.\u001B[39mGrid)\n\u001B[1;32m      7\u001B[0m grid \u001B[38;5;241m=\u001B[39m Grid(\u001B[38;5;241m4\u001B[39m, \u001B[38;5;241m4\u001B[39m)\n",
      "\u001B[0;31mNameError\u001B[0m: name 'tutorial_2' is not defined"
     ]
    }
   ],
   "execution_count": 5
  },
  {
   "metadata": {},
   "cell_type": "code",
   "outputs": [],
   "execution_count": null,
   "source": "",
   "id": "e52a33f0ee6a3d85"
  }
 ],
 "metadata": {
  "kernelspec": {
   "display_name": "Python 3",
   "language": "python",
   "name": "python3"
  },
  "language_info": {
   "codemirror_mode": {
    "name": "ipython",
    "version": 2
   },
   "file_extension": ".py",
   "mimetype": "text/x-python",
   "name": "python",
   "nbconvert_exporter": "python",
   "pygments_lexer": "ipython2",
   "version": "2.7.6"
  }
 },
 "nbformat": 4,
 "nbformat_minor": 5
}
