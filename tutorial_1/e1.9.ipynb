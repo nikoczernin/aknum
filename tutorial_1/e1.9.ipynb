{
 "cells": [
  {
   "cell_type": "code",
   "id": "initial_id",
   "metadata": {
    "collapsed": true,
    "ExecuteTime": {
     "end_time": "2025-03-27T09:08:52.351411Z",
     "start_time": "2025-03-27T09:08:52.338981Z"
    }
   },
   "source": [
    "\n",
    "R=[0, 1, -1, 2, -1, 2, 0, 0, 0]\n",
    "T=5\n",
    "gamma = 0.5\n",
    "\n",
    "def get_G(r, t):\n",
    "    return sum([r * gamma ** (k - t - 1) for k in range(t+1, T+1)])\n",
    "\n",
    "\n",
    "print([get_G(R[t+1], t) for t in range(T+1)])\n",
    "\n",
    "\n",
    "\n",
    "\n",
    "\n",
    "\n",
    "\n",
    "R=[0, -1, 2] + [1]*1000\n",
    "T=1000\n",
    "gamma = 0.9\n",
    "\n",
    "def get_G(r, t):\n",
    "    return sum([r * gamma ** (k - t - 1) for k in range(t+1, T+1)])\n",
    "\n",
    "\n",
    "print([get_G(R[t+1], t) for t in range(4)])"
   ],
   "outputs": [
    {
     "name": "stdout",
     "output_type": "stream",
     "text": [
      "[1.9375, -1.875, 3.5, -1.5, 2.0, 0]\n",
      "[-9.999999999999993, 19.999999999999986, 9.999999999999993, 9.999999999999993]\n"
     ]
    }
   ],
   "execution_count": 1
  },
  {
   "metadata": {},
   "cell_type": "code",
   "outputs": [],
   "execution_count": null,
   "source": "",
   "id": "96e475f97d1d7491"
  }
 ],
 "metadata": {
  "kernelspec": {
   "display_name": "Python 3",
   "language": "python",
   "name": "python3"
  },
  "language_info": {
   "codemirror_mode": {
    "name": "ipython",
    "version": 2
   },
   "file_extension": ".py",
   "mimetype": "text/x-python",
   "name": "python",
   "nbconvert_exporter": "python",
   "pygments_lexer": "ipython2",
   "version": "2.7.6"
  }
 },
 "nbformat": 4,
 "nbformat_minor": 5
}
