{
 "cells": [
  {
   "metadata": {},
   "cell_type": "markdown",
   "source": "# Tutorial 2",
   "id": "447fa4983c0b3f7"
  },
  {
   "metadata": {},
   "cell_type": "markdown",
   "source": "## Exercise 4-7\n",
   "id": "2f266bac81d59774"
  },
  {
   "metadata": {
    "ExecuteTime": {
     "end_time": "2025-04-02T19:14:29.414039Z",
     "start_time": "2025-04-02T19:14:29.405488Z"
    }
   },
   "cell_type": "code",
   "source": [
    "\n",
    "from pprint import pprint\n",
    "from GridWorld import GridWorld\n",
    "from Bot import Bot"
   ],
   "id": "a58a6a336e716f73",
   "outputs": [],
   "execution_count": 16
  },
  {
   "metadata": {
    "ExecuteTime": {
     "end_time": "2025-04-02T19:14:29.433751Z",
     "start_time": "2025-04-02T19:14:29.427949Z"
    }
   },
   "cell_type": "code",
   "source": [
    "\n",
    "w, h = 4, 4 # grid size\n",
    "bot = Bot(env=GridWorld(w, h), T = 12)\n",
    "print(bot.env) # draw the grid\n"
   ],
   "id": "e52a33f0ee6a3d85",
   "outputs": [
    {
     "name": "stdout",
     "output_type": "stream",
     "text": [
      "    0   1   2   3 \n",
      "0   G   -   -   -   \n",
      "1   -   -   -   -   \n",
      "2   -   -   -   -   \n",
      "3   -   -   -   G   \n",
      "   \n"
     ]
    }
   ],
   "execution_count": 17
  },
  {
   "metadata": {
    "ExecuteTime": {
     "end_time": "2025-04-02T19:14:59.173632Z",
     "start_time": "2025-04-02T19:14:29.445210Z"
    }
   },
   "cell_type": "code",
   "source": [
    "accuracy_thresh = .001\n",
    "gamma = 1\n",
    "\n",
    "# perform iterative policy evaluation\n",
    "v = bot.iterative_policy_evaluation(accuracy_thresh, gamma)\n",
    "print(\"Initial policy (all actions are equally probable\")\n",
    "pprint(bot.policy)\n",
    "print(\"Value estimations:\", v)\n",
    "print()\n"
   ],
   "id": "fe886dbca50f4838",
   "outputs": [
    {
     "name": "stdout",
     "output_type": "stream",
     "text": [
      "Initial policy (all actions are equally probable\n",
      "{(0, 0): {},\n",
      " (0, 1): {(0, -1): 0.3333333333333333,\n",
      "          (0, 1): 0.3333333333333333,\n",
      "          (1, 0): 0.3333333333333333},\n",
      " (0, 2): {(0, -1): 0.3333333333333333,\n",
      "          (0, 1): 0.3333333333333333,\n",
      "          (1, 0): 0.3333333333333333},\n",
      " (0, 3): {(0, -1): 0.5, (1, 0): 0.5},\n",
      " (1, 0): {(-1, 0): 0.3333333333333333,\n",
      "          (0, 1): 0.3333333333333333,\n",
      "          (1, 0): 0.3333333333333333},\n",
      " (1, 1): {(-1, 0): 0.25, (0, -1): 0.25, (0, 1): 0.25, (1, 0): 0.25},\n",
      " (1, 2): {(-1, 0): 0.25, (0, -1): 0.25, (0, 1): 0.25, (1, 0): 0.25},\n",
      " (1, 3): {(-1, 0): 0.3333333333333333,\n",
      "          (0, -1): 0.3333333333333333,\n",
      "          (1, 0): 0.3333333333333333},\n",
      " (2, 0): {(-1, 0): 0.3333333333333333,\n",
      "          (0, 1): 0.3333333333333333,\n",
      "          (1, 0): 0.3333333333333333},\n",
      " (2, 1): {(-1, 0): 0.25, (0, -1): 0.25, (0, 1): 0.25, (1, 0): 0.25},\n",
      " (2, 2): {(-1, 0): 0.25, (0, -1): 0.25, (0, 1): 0.25, (1, 0): 0.25},\n",
      " (2, 3): {(-1, 0): 0.3333333333333333,\n",
      "          (0, -1): 0.3333333333333333,\n",
      "          (1, 0): 0.3333333333333333},\n",
      " (3, 0): {(-1, 0): 0.5, (0, 1): 0.5},\n",
      " (3, 1): {(-1, 0): 0.3333333333333333,\n",
      "          (0, -1): 0.3333333333333333,\n",
      "          (0, 1): 0.3333333333333333},\n",
      " (3, 2): {(-1, 0): 0.3333333333333333,\n",
      "          (0, -1): 0.3333333333333333,\n",
      "          (0, 1): 0.3333333333333333},\n",
      " (3, 3): {}}\n",
      "Value estimations: {(0, 0): 0, (0, 1): -6.413067773074762, (0, 2): -8.853609264128096, (0, 3): -9.346984006397228, (1, 0): -6.413067773074762, (1, 1): -8.360234521858963, (1, 2): -9.119601659612144, (1, 3): -8.853609264128096, (2, 0): -8.853609264128094, (2, 1): -9.119601659612144, (2, 2): -8.360234521858963, (2, 3): -6.413067773074762, (3, 0): -9.346984006397228, (3, 1): -8.853609264128094, (3, 2): -6.413067773074762, (3, 3): 0}\n",
      "\n"
     ]
    }
   ],
   "execution_count": 18
  },
  {
   "metadata": {
    "ExecuteTime": {
     "end_time": "2025-04-02T19:14:59.197469Z",
     "start_time": "2025-04-02T19:14:59.190230Z"
    }
   },
   "cell_type": "code",
   "source": [
    "print(bot.env) # draw the grid\n",
    "\n",
    "# set the probabilities in the policy from uniform probs to all either 0 or 1\n",
    "bot.hardline_policy()\n",
    "# perform policy iteration to get the optimal policy\n",
    "v = bot.policy_iteration(accuracy_thresh, gamma)\n",
    "print(\"Policy after policy iteration\")\n",
    "pprint(bot.policy)\n",
    "print(\"Value estimations:\", v)\n",
    "print()\n"
   ],
   "id": "86b9b6508ed9fffa",
   "outputs": [
    {
     "name": "stdout",
     "output_type": "stream",
     "text": [
      "    0   1   2   3 \n",
      "0   G   -   -   -   \n",
      "1   -   -   -   -   \n",
      "2   -   -   -   -   \n",
      "3   -   -   -   G   \n",
      "   \n",
      "Policy Iteration\n",
      "Iteration 1\n",
      "State (0, 1): Better action found. (0, 1) ==> (0, -1)\n",
      "State (0, 2): Better action found. (1, 0) ==> (0, -1)\n",
      "State (0, 3): Better action found. (1, 0) ==> (0, -1)\n",
      "State (1, 0): Better action found. (1, 0) ==> (-1, 0)\n",
      "State (1, 2): Better action found. (0, 1) ==> (0, -1)\n",
      "State (2, 0): Better action found. (0, 1) ==> (-1, 0)\n",
      "State (2, 1): Better action found. (1, 0) ==> (0, -1)\n",
      "State (2, 2): Better action found. (0, -1) ==> (0, 1)\n",
      "State (3, 0): Better action found. (0, 1) ==> (-1, 0)\n",
      "State (3, 2): Better action found. (0, -1) ==> (0, 1)\n",
      "\n",
      "Iteration 2\n",
      "State (3, 1): Better action found. (0, -1) ==> (0, 1)\n",
      "\n",
      "Iteration 3\n",
      "State (3, 0): Better action found. (-1, 0) ==> (0, 1)\n",
      "\n",
      "Iteration 4\n",
      "Policy Is Stable. Returning ...\n",
      "Policy after policy iteration\n",
      "{(0, 0): {},\n",
      " (0, 1): {(0, -1): 1, (0, 1): 0, (1, 0): 0},\n",
      " (0, 2): {(0, -1): 1, (0, 1): 0, (1, 0): 0},\n",
      " (0, 3): {(0, -1): 1, (1, 0): 0},\n",
      " (1, 0): {(-1, 0): 1, (0, 1): 0, (1, 0): 0},\n",
      " (1, 1): {(-1, 0): 0, (0, -1): 1, (0, 1): 0, (1, 0): 0},\n",
      " (1, 2): {(-1, 0): 0, (0, -1): 1, (0, 1): 0, (1, 0): 0},\n",
      " (1, 3): {(-1, 0): 0, (0, -1): 0, (1, 0): 1},\n",
      " (2, 0): {(-1, 0): 1, (0, 1): 0, (1, 0): 0},\n",
      " (2, 1): {(-1, 0): 0, (0, -1): 1, (0, 1): 0, (1, 0): 0},\n",
      " (2, 2): {(-1, 0): 0, (0, -1): 0, (0, 1): 1, (1, 0): 0},\n",
      " (2, 3): {(-1, 0): 0, (0, -1): 0, (1, 0): 1},\n",
      " (3, 0): {(-1, 0): 0, (0, 1): 1},\n",
      " (3, 1): {(-1, 0): 0, (0, -1): 0, (0, 1): 1},\n",
      " (3, 2): {(-1, 0): 0, (0, -1): 0, (0, 1): 1},\n",
      " (3, 3): {}}\n",
      "Value estimations: {(0, 0): 0, (0, 1): -1, (0, 2): -2, (0, 3): -3, (1, 0): -1, (1, 1): -2, (1, 2): -3, (1, 3): -2, (2, 0): -2, (2, 1): -3, (2, 2): -2, (2, 3): -1, (3, 0): -3, (3, 1): -2, (3, 2): -1, (3, 3): 0}\n",
      "\n"
     ]
    }
   ],
   "execution_count": 19
  },
  {
   "metadata": {
    "ExecuteTime": {
     "end_time": "2025-04-02T19:14:59.216082Z",
     "start_time": "2025-04-02T19:14:59.209432Z"
    }
   },
   "cell_type": "code",
   "source": [
    "print(bot.env) # draw the grid\n",
    "\n",
    "# perform value iteration for show\n",
    "# first reset the policy to random hardline probabilities\n",
    "print(\"... resetting policy ...\")\n",
    "bot.init_policy(hardline=True)\n",
    "v = bot.value_iteration(accuracy_thresh, gamma)\n",
    "print(\"Final policy after value iteration\")\n",
    "pprint(bot.policy)\n",
    "print(\"Value estimations:\", v)\n",
    "print()\n"
   ],
   "id": "44763e8056625ec2",
   "outputs": [
    {
     "name": "stdout",
     "output_type": "stream",
     "text": [
      "    0   1   2   3 \n",
      "0   G   -   -   -   \n",
      "1   -   -   -   -   \n",
      "2   -   -   -   -   \n",
      "3   -   -   -   G   \n",
      "   \n",
      "... resetting policy ...\n",
      "Value Iteration\n",
      "State (0, 1): Best action = (0, -1)\n",
      "State (0, 2): Best action = (0, -1)\n",
      "State (0, 3): Best action = (0, -1)\n",
      "State (1, 0): Best action = (-1, 0)\n",
      "State (1, 1): Best action = (0, -1)\n",
      "State (1, 2): Best action = (0, -1)\n",
      "State (1, 3): Best action = (1, 0)\n",
      "State (2, 0): Best action = (-1, 0)\n",
      "State (2, 1): Best action = (0, -1)\n",
      "State (2, 2): Best action = (0, 1)\n",
      "State (2, 3): Best action = (1, 0)\n",
      "State (3, 0): Best action = (0, 1)\n",
      "State (3, 1): Best action = (0, 1)\n",
      "State (3, 2): Best action = (0, 1)\n",
      "Final policy after value iteration\n",
      "{(0, 0): {},\n",
      " (0, 1): {(0, -1): 1, (0, 1): 0, (1, 0): 0},\n",
      " (0, 2): {(0, -1): 1, (0, 1): 0, (1, 0): 0},\n",
      " (0, 3): {(0, -1): 1, (1, 0): 0},\n",
      " (1, 0): {(-1, 0): 1, (0, 1): 0, (1, 0): 0},\n",
      " (1, 1): {(-1, 0): 0, (0, -1): 1, (0, 1): 0, (1, 0): 0},\n",
      " (1, 2): {(-1, 0): 0, (0, -1): 1, (0, 1): 0, (1, 0): 0},\n",
      " (1, 3): {(-1, 0): 0, (0, -1): 0, (1, 0): 1},\n",
      " (2, 0): {(-1, 0): 1, (0, 1): 0, (1, 0): 0},\n",
      " (2, 1): {(-1, 0): 0, (0, -1): 1, (0, 1): 0, (1, 0): 0},\n",
      " (2, 2): {(-1, 0): 0, (0, -1): 0, (0, 1): 1, (1, 0): 0},\n",
      " (2, 3): {(-1, 0): 0, (0, -1): 0, (1, 0): 1},\n",
      " (3, 0): {(-1, 0): 0, (0, 1): 1},\n",
      " (3, 1): {(-1, 0): 0, (0, -1): 0, (0, 1): 1},\n",
      " (3, 2): {(-1, 0): 0, (0, -1): 0, (0, 1): 1},\n",
      " (3, 3): {}}\n",
      "Value estimations: {(0, 0): 0, (0, 1): -1, (0, 2): -2, (0, 3): -3, (1, 0): -1, (1, 1): -2, (1, 2): -3, (1, 3): -2, (2, 0): -2, (2, 1): -3, (2, 2): -2, (2, 3): -1, (3, 0): -3, (3, 1): -2, (3, 2): -1, (3, 3): 0}\n",
      "\n"
     ]
    }
   ],
   "execution_count": 20
  },
  {
   "metadata": {
    "ExecuteTime": {
     "end_time": "2025-04-02T19:14:59.229087Z",
     "start_time": "2025-04-02T19:14:59.226514Z"
    }
   },
   "cell_type": "code",
   "source": "",
   "id": "3b3b53812354e510",
   "outputs": [],
   "execution_count": null
  }
 ],
 "metadata": {
  "kernelspec": {
   "display_name": "Python 3",
   "language": "python",
   "name": "python3"
  },
  "language_info": {
   "codemirror_mode": {
    "name": "ipython",
    "version": 2
   },
   "file_extension": ".py",
   "mimetype": "text/x-python",
   "name": "python",
   "nbconvert_exporter": "python",
   "pygments_lexer": "ipython2",
   "version": "2.7.6"
  }
 },
 "nbformat": 4,
 "nbformat_minor": 5
}
